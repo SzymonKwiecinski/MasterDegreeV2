{
 "cells": [
  {
   "cell_type": "code",
   "id": "initial_id",
   "metadata": {
    "collapsed": true,
    "ExecuteTime": {
     "end_time": "2024-09-22T14:58:21.356431Z",
     "start_time": "2024-09-22T14:58:20.586872Z"
    }
   },
   "source": [
    "import matplotlib.pyplot as plt\n",
    "import pandas as pd\n",
    "import numpy as np\n",
    "\n",
    "df = pd.read_csv(\"report.csv\")\n",
    "df.head()"
   ],
   "outputs": [
    {
     "data": {
      "text/plain": [
       "  experiment_name  experiment_iteration  task_number  code_fix_count  \\\n",
       "0  experiment_3a1                     1            1               0   \n",
       "1  experiment_3a1                     1            2               0   \n",
       "2  experiment_3a1                     1            3               0   \n",
       "3  experiment_3a1                     1            4               0   \n",
       "4  experiment_3b1                     1            1               1   \n",
       "\n",
       "   code_syntax_status  obj_expected     obj_given  obj_status  \\\n",
       "0                True  7.864000e+01  7.863760e+01        True   \n",
       "1                True  2.712500e+08  2.600000e+08       False   \n",
       "2                True  3.530000e+02  3.424000e+02       False   \n",
       "3                True  1.500000e+01  1.500000e+01        True   \n",
       "4               False  7.864000e+01           NaN       False   \n",
       "\n",
       "   sum_prompt_tokens  sum_completion_tokens  sum_prompt_tokens_price  \\\n",
       "0                938                    688                 0.000141   \n",
       "1               2364                   2068                 0.000355   \n",
       "2               1575                   1399                 0.000236   \n",
       "3                934                    809                 0.000140   \n",
       "4               1627                   1036                 0.000244   \n",
       "\n",
       "   sum_completion_tokens_price  sum_price  \n",
       "0                     0.000413   0.000553  \n",
       "1                     0.001241   0.001595  \n",
       "2                     0.000839   0.001076  \n",
       "3                     0.000485   0.000625  \n",
       "4                     0.000622   0.000866  "
      ],
      "text/html": [
       "<div>\n",
       "<style scoped>\n",
       "    .dataframe tbody tr th:only-of-type {\n",
       "        vertical-align: middle;\n",
       "    }\n",
       "\n",
       "    .dataframe tbody tr th {\n",
       "        vertical-align: top;\n",
       "    }\n",
       "\n",
       "    .dataframe thead th {\n",
       "        text-align: right;\n",
       "    }\n",
       "</style>\n",
       "<table border=\"1\" class=\"dataframe\">\n",
       "  <thead>\n",
       "    <tr style=\"text-align: right;\">\n",
       "      <th></th>\n",
       "      <th>experiment_name</th>\n",
       "      <th>experiment_iteration</th>\n",
       "      <th>task_number</th>\n",
       "      <th>code_fix_count</th>\n",
       "      <th>code_syntax_status</th>\n",
       "      <th>obj_expected</th>\n",
       "      <th>obj_given</th>\n",
       "      <th>obj_status</th>\n",
       "      <th>sum_prompt_tokens</th>\n",
       "      <th>sum_completion_tokens</th>\n",
       "      <th>sum_prompt_tokens_price</th>\n",
       "      <th>sum_completion_tokens_price</th>\n",
       "      <th>sum_price</th>\n",
       "    </tr>\n",
       "  </thead>\n",
       "  <tbody>\n",
       "    <tr>\n",
       "      <th>0</th>\n",
       "      <td>experiment_3a1</td>\n",
       "      <td>1</td>\n",
       "      <td>1</td>\n",
       "      <td>0</td>\n",
       "      <td>True</td>\n",
       "      <td>7.864000e+01</td>\n",
       "      <td>7.863760e+01</td>\n",
       "      <td>True</td>\n",
       "      <td>938</td>\n",
       "      <td>688</td>\n",
       "      <td>0.000141</td>\n",
       "      <td>0.000413</td>\n",
       "      <td>0.000553</td>\n",
       "    </tr>\n",
       "    <tr>\n",
       "      <th>1</th>\n",
       "      <td>experiment_3a1</td>\n",
       "      <td>1</td>\n",
       "      <td>2</td>\n",
       "      <td>0</td>\n",
       "      <td>True</td>\n",
       "      <td>2.712500e+08</td>\n",
       "      <td>2.600000e+08</td>\n",
       "      <td>False</td>\n",
       "      <td>2364</td>\n",
       "      <td>2068</td>\n",
       "      <td>0.000355</td>\n",
       "      <td>0.001241</td>\n",
       "      <td>0.001595</td>\n",
       "    </tr>\n",
       "    <tr>\n",
       "      <th>2</th>\n",
       "      <td>experiment_3a1</td>\n",
       "      <td>1</td>\n",
       "      <td>3</td>\n",
       "      <td>0</td>\n",
       "      <td>True</td>\n",
       "      <td>3.530000e+02</td>\n",
       "      <td>3.424000e+02</td>\n",
       "      <td>False</td>\n",
       "      <td>1575</td>\n",
       "      <td>1399</td>\n",
       "      <td>0.000236</td>\n",
       "      <td>0.000839</td>\n",
       "      <td>0.001076</td>\n",
       "    </tr>\n",
       "    <tr>\n",
       "      <th>3</th>\n",
       "      <td>experiment_3a1</td>\n",
       "      <td>1</td>\n",
       "      <td>4</td>\n",
       "      <td>0</td>\n",
       "      <td>True</td>\n",
       "      <td>1.500000e+01</td>\n",
       "      <td>1.500000e+01</td>\n",
       "      <td>True</td>\n",
       "      <td>934</td>\n",
       "      <td>809</td>\n",
       "      <td>0.000140</td>\n",
       "      <td>0.000485</td>\n",
       "      <td>0.000625</td>\n",
       "    </tr>\n",
       "    <tr>\n",
       "      <th>4</th>\n",
       "      <td>experiment_3b1</td>\n",
       "      <td>1</td>\n",
       "      <td>1</td>\n",
       "      <td>1</td>\n",
       "      <td>False</td>\n",
       "      <td>7.864000e+01</td>\n",
       "      <td>NaN</td>\n",
       "      <td>False</td>\n",
       "      <td>1627</td>\n",
       "      <td>1036</td>\n",
       "      <td>0.000244</td>\n",
       "      <td>0.000622</td>\n",
       "      <td>0.000866</td>\n",
       "    </tr>\n",
       "  </tbody>\n",
       "</table>\n",
       "</div>"
      ]
     },
     "execution_count": 1,
     "metadata": {},
     "output_type": "execute_result"
    }
   ],
   "execution_count": 1
  },
  {
   "metadata": {
    "ExecuteTime": {
     "end_time": "2024-09-22T14:58:22.090100Z",
     "start_time": "2024-09-22T14:58:22.081082Z"
    }
   },
   "cell_type": "code",
   "source": [
    "experiment_efficiency = df.groupby([\"experiment_name\", \"experiment_iteration\"])[\n",
    "                               \"obj_status\"].mean() * 100  #.sum() / 18 * 100\n",
    "experiment_efficiency_std = experiment_efficiency.groupby(\"experiment_name\").std()   "
   ],
   "id": "955b985e045c1b32",
   "outputs": [],
   "execution_count": 2
  },
  {
   "metadata": {
    "ExecuteTime": {
     "end_time": "2024-09-22T14:58:22.494406Z",
     "start_time": "2024-09-22T14:58:22.490441Z"
    }
   },
   "cell_type": "code",
   "source": [
    "\n",
    "experiment_efficiency = experiment_efficiency.groupby(\"experiment_name\").mean()"
   ],
   "id": "716d40b75016133b",
   "outputs": [],
   "execution_count": 3
  },
  {
   "metadata": {
    "ExecuteTime": {
     "end_time": "2024-09-22T14:58:22.890965Z",
     "start_time": "2024-09-22T14:58:22.886265Z"
    }
   },
   "cell_type": "code",
   "source": [
    "\n",
    "experiment_cost = df.groupby([\"experiment_name\", \"experiment_iteration\"])[\"sum_price\"].mean()\n",
    "experiment_cost_std = experiment_cost.groupby(\"experiment_name\").std()   \n",
    "experiment_cost = experiment_cost.groupby(\"experiment_name\").mean()"
   ],
   "id": "15325eec5c682303",
   "outputs": [],
   "execution_count": 4
  },
  {
   "metadata": {
    "ExecuteTime": {
     "end_time": "2024-09-22T14:58:23.277706Z",
     "start_time": "2024-09-22T14:58:23.273651Z"
    }
   },
   "cell_type": "code",
   "source": [
    "\n",
    "experiment = pd.merge(experiment_efficiency, experiment_cost, on=\"experiment_name\")"
   ],
   "id": "f9ed3ec982c3638e",
   "outputs": [],
   "execution_count": 5
  },
  {
   "metadata": {
    "ExecuteTime": {
     "end_time": "2024-09-22T14:58:23.767307Z",
     "start_time": "2024-09-22T14:58:23.765344Z"
    }
   },
   "cell_type": "code",
   "source": "",
   "id": "d3235fac813435f",
   "outputs": [],
   "execution_count": null
  },
  {
   "metadata": {
    "ExecuteTime": {
     "end_time": "2024-09-22T14:58:24.312756Z",
     "start_time": "2024-09-22T14:58:24.151808Z"
    }
   },
   "cell_type": "code",
   "source": [
    "\n",
    "fig, ax = plt.subplots(figsize=(15, 5))\n",
    "# ax.scatter(experiment[\"sum_price\"], experiment[\"obj_status\"], marker='x')\n",
    "ax.set_xlabel(\"Cost $ as mean from experiment iterations\")\n",
    "ax.set_ylabel(\"Efficiency in %  as mean from experiment iterations\")\n",
    "for i, txt in enumerate(experiment.index):\n",
    "    ax.annotate(txt, (experiment[\"sum_price\"][i], experiment[\"obj_status\"][i]), rotation=45)\n",
    "    # rotate text\n",
    "# add to x label $ sign to the number\n",
    "ax.get_xaxis().set_major_formatter(plt.FuncFormatter(lambda x, loc: \"${:,}\".format(round(x, 4))))\n",
    "# add to y label % sign to the number\n",
    "ax.get_yaxis().set_major_formatter(plt.FuncFormatter(lambda x, loc: \"{:,}%\".format(round(x, 1))))\n",
    "\n",
    "ax.errorbar(experiment[\"sum_price\"], experiment[\"obj_status\"], xerr=experiment_cost_std.values, yerr=experiment_efficiency_std.values, fmt='.', capsize=3, ecolor='red')\n",
    "\n",
    "plt.legend([\"result with std*1\"])\n",
    "plt.show()"
   ],
   "id": "65cef7a1705f81c9",
   "outputs": [
    {
     "data": {
      "text/plain": [
       "<Figure size 1500x500 with 1 Axes>"
      ],
      "image/png": "[encoded data removed]"
     },
     "metadata": {},
     "output_type": "display_data"
    }
   ],
   "execution_count": 6
  },
  {
   "metadata": {},
   "cell_type": "code",
   "outputs": [],
   "execution_count": null,
   "source": "",
   "id": "7f6a95e949402072"
  }
 ],
 "metadata": {
  "kernelspec": {
   "display_name": "Python 3",
   "language": "python",
   "name": "python3"
  },
  "language_info": {
   "codemirror_mode": {
    "name": "ipython",
    "version": 2
   },
   "file_extension": ".py",
   "mimetype": "text/x-python",
   "name": "python",
   "nbconvert_exporter": "python",
   "pygments_lexer": "ipython2",
   "version": "2.7.6"
  }
 },
 "nbformat": 4,
 "nbformat_minor": 5
}
